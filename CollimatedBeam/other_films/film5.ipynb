{
 "cells": [
  {
   "cell_type": "markdown",
   "id": "6c0465dd",
   "metadata": {},
   "source": [
    "# Deeping learning and post-processing of Film5"
   ]
  },
  {
   "cell_type": "code",
   "execution_count": 1,
   "id": "31b029da",
   "metadata": {},
   "outputs": [],
   "source": [
    "import os\n",
    "if not os.path.exists(\"./training_set_processed\"):\n",
    "    os.mkdir(\"./training_set_processed\")\n",
    "if not os.path.exists(\"./ML_result\"):\n",
    "    os.mkdir(\"./ML_result\")"
   ]
  },
  {
   "cell_type": "code",
   "execution_count": 3,
   "id": "c3d7412f",
   "metadata": {},
   "outputs": [
    {
     "name": "stderr",
     "output_type": "stream",
     "text": [
      "100%|██████████████████████████████████████████████████████████████████████████████████| 36/36 [01:06<00:00,  1.84s/it]\n"
     ]
    }
   ],
   "source": [
    "import numpy as np\n",
    "import matplotlib.pyplot as plt\n",
    "from scipy.ndimage import zoom\n",
    "from tqdm import tqdm\n",
    "from math import pi\n",
    "\n",
    "def stokes_from_alphabeta(alpha,beta):\n",
    "    alpha=alpha/180*pi\n",
    "    beta=beta/180*pi\n",
    "    result=np.zeros(3,dtype=np.float32)\n",
    "    result[0]=0.5*(np.cos(4*alpha-4*beta)+np.cos(4*alpha))\n",
    "    result[1]=0.5*(np.sin(4*alpha)-np.sin(4*alpha-4*beta))\n",
    "    result[2]=-np.sin(4*alpha-2*beta)\n",
    "    return result\n",
    "\n",
    "\n",
    "\n",
    "n_alpha=36\n",
    "n_beta=36\n",
    "\n",
    "alpha_array=np.linspace(0,90,n_alpha+1)[:-1]\n",
    "beta_array=np.linspace(0,180,n_beta+1)[:-1]\n",
    "ori_x=np.zeros((n_alpha,n_beta,40*40),dtype=np.uint16)\n",
    "ori_y=np.zeros((n_alpha,n_beta,3),dtype=np.float32)\n",
    "\n",
    "for i in tqdm(range(n_alpha)):\n",
    "    cur_npz=np.load(\"./training_set/alpha%.2f.npz\"%alpha_array[i])[\"arr_0\"]\n",
    "    for j in range(n_beta):\n",
    "        ori_x[i,j]=zoom(cur_npz[j],(40/cur_npz[j].shape[0],40/cur_npz[j].shape[1])).reshape(-1)\n",
    "        ori_y[i,j]=stokes_from_alphabeta(alpha_array[i],beta_array[j])\n",
    "\n",
    "ori_x=ori_x.astype(np.float32)\n",
    "train_mean=np.mean(np.mean(ori_x,axis=0),axis=0)\n",
    "ori_x=ori_x/train_mean-1\n",
    "#train_std=np.std(np.std(ori_x,axis=0),axis=0)\n",
    "train_std=1\n",
    "ori_x=ori_x/train_std"
   ]
  },
  {
   "cell_type": "code",
   "execution_count": 4,
   "id": "5841d2ce",
   "metadata": {},
   "outputs": [],
   "source": [
    "def insert_img(x_list,y_list,n_each):\n",
    "    # x_list,y_list: 1D list in [ori,down,right,downright]\n",
    "    x_result=np.zeros((n_each+2,n_each+2,x_list[0].shape[0]),dtype=np.float32)\n",
    "    y_result=np.zeros((n_each+2,n_each+2,y_list[0].shape[0]),dtype=np.float32)\n",
    "    \n",
    "    x_result[0,0]=x_list[0]\n",
    "    x_result[-1,0]=x_list[1]\n",
    "    x_result[0,-1]=x_list[2]\n",
    "    x_result[-1,-1]=x_list[3]\n",
    "    y_result[0,0]=y_list[0]\n",
    "    y_result[-1,0]=y_list[1]\n",
    "    y_result[0,-1]=y_list[2]\n",
    "    y_result[-1,-1]=y_list[3]\n",
    "    \n",
    "    for i in range(1,n_each+1):\n",
    "        x_result[0,i]=x_result[0,0]+(x_result[0,-1]-x_result[0,0])/(n_each+1)*i\n",
    "        x_result[-1,i]=x_result[0,0]+(x_result[0,-1]-x_result[0,0])/(n_each+1)*i\n",
    "        y_result[0,i]=y_result[0,0]+(y_result[0,-1]-y_result[0,0])/(n_each+1)*i\n",
    "        y_result[-1,i]=y_result[0,0]+(y_result[0,-1]-y_result[0,0])/(n_each+1)*i\n",
    "    for i in range(x_result.shape[1]-1):\n",
    "        for j in range(1,n_each+1):\n",
    "            x_result[j,i]=x_result[0,i]+(x_result[-1,i]-x_result[0,i])/(n_each+1)*j\n",
    "            y_result[j,i]=y_result[0,i]+(y_result[-1,i]-y_result[0,i])/(n_each+1)*j\n",
    "    return x_result[:-1,:-1],y_result[:-1,:-1]"
   ]
  },
  {
   "cell_type": "code",
   "execution_count": 5,
   "id": "88c106a6",
   "metadata": {},
   "outputs": [
    {
     "name": "stderr",
     "output_type": "stream",
     "text": [
      "100%|██████████████████████████████████████████████████████████████████████████████████| 36/36 [00:00<00:00, 70.18it/s]\n"
     ]
    }
   ],
   "source": [
    "for i in tqdm(range(n_alpha)):\n",
    "    for j in range(n_beta):\n",
    "        x_list=[ori_x[i,j]]\n",
    "        y_list=[ori_y[i,j]]\n",
    "        if i==n_alpha-1:\n",
    "            alpha_plus=0\n",
    "        else:\n",
    "            alpha_plus=i+1\n",
    "        if j==n_beta-1:\n",
    "            beta_plus=0\n",
    "        else:\n",
    "            beta_plus=j+1\n",
    "        x_list.append(ori_x[alpha_plus,j])\n",
    "        y_list.append(ori_y[alpha_plus,j])\n",
    "        x_list.append(ori_x[i,beta_plus])\n",
    "        y_list.append(ori_y[i,beta_plus])\n",
    "        x_list.append(ori_x[alpha_plus,beta_plus])\n",
    "        y_list.append(ori_y[alpha_plus,beta_plus])\n",
    "        \n",
    "        x_result,y_result=insert_img(x_list,y_list,0)\n",
    "        np.savez(\"./training_set_processed/alpha%.2f_beta%.2f.npz\"%(alpha_array[i],beta_array[j]),x_result,y_result)"
   ]
  },
  {
   "cell_type": "code",
   "execution_count": 6,
   "id": "2f47b720",
   "metadata": {},
   "outputs": [
    {
     "name": "stderr",
     "output_type": "stream",
     "text": [
      "100%|████████████████████████████████████████████████████████████████████████████████| 100/100 [00:03<00:00, 26.55it/s]\n"
     ]
    }
   ],
   "source": [
    "cur_npz=np.load(\"./test_set/data.npz\")[\"arr_0\"]\n",
    "ori_x=np.zeros((cur_npz.shape[0],40*40),dtype=np.uint16)\n",
    "ori_y=np.zeros((cur_npz.shape[0],3),dtype=np.float32)\n",
    "fo=np.load(\"./test_set/alphabeta.npz\")\n",
    "cur_alpha=fo[\"arr_0\"]\n",
    "cur_beta=fo[\"arr_1\"]\n",
    "for i in tqdm(range(cur_npz.shape[0])):\n",
    "    ori_x[i]=zoom(cur_npz[i],(40/cur_npz[i].shape[0],40/cur_npz[i].shape[1])).reshape(-1)\n",
    "    ori_y[i]=stokes_from_alphabeta(cur_alpha[i],cur_beta[i])\n",
    "\n",
    "ori_x=ori_x.astype(np.float32)\n",
    "ori_x=ori_x/train_mean-1\n",
    "ori_x=ori_x/train_std\n",
    "\n",
    "np.savez(\"./test_set/data_processed.npz\",ori_x,ori_y)"
   ]
  },
  {
   "cell_type": "code",
   "execution_count": 7,
   "id": "c9d2ff03",
   "metadata": {},
   "outputs": [
    {
     "name": "stderr",
     "output_type": "stream",
     "text": [
      "100%|████████████████████████████████████████████████████████████████████████████████| 100/100 [00:03<00:00, 26.91it/s]\n"
     ]
    }
   ],
   "source": [
    "cur_npz=np.load(\"./val_set/data.npz\")[\"arr_0\"]\n",
    "ori_x=np.zeros((cur_npz.shape[0],40*40),dtype=np.uint16)\n",
    "ori_y=np.zeros((cur_npz.shape[0],3),dtype=np.float32)\n",
    "fo=np.load(\"./val_set/alphabeta.npz\")\n",
    "cur_alpha=fo[\"arr_0\"]\n",
    "cur_beta=fo[\"arr_1\"]\n",
    "for i in tqdm(range(cur_npz.shape[0])):\n",
    "    ori_x[i]=zoom(cur_npz[i],(40/cur_npz[i].shape[0],40/cur_npz[i].shape[1])).reshape(-1)\n",
    "    ori_y[i]=stokes_from_alphabeta(cur_alpha[i],cur_beta[i])\n",
    "\n",
    "ori_x=ori_x.astype(np.float32)\n",
    "ori_x=ori_x/train_mean-1\n",
    "ori_x=ori_x/train_std\n",
    "\n",
    "np.savez(\"./val_set/data_processed.npz\",ori_x,ori_y)"
   ]
  },
  {
   "cell_type": "markdown",
   "id": "c74083c3",
   "metadata": {},
   "source": [
    "# CNN"
   ]
  },
  {
   "cell_type": "code",
   "execution_count": 1,
   "id": "4edc60fc",
   "metadata": {},
   "outputs": [
    {
     "name": "stdout",
     "output_type": "stream",
     "text": [
      "Using torch 2.0.1+cu118\n",
      "Using device: cuda\n"
     ]
    }
   ],
   "source": [
    "import torch\n",
    "print(\"Using torch\", torch.__version__)\n",
    "device = torch.device('cuda' if torch.cuda.is_available() else 'cpu')\n",
    "print('Using device:', device)"
   ]
  },
  {
   "cell_type": "code",
   "execution_count": 2,
   "id": "9ec94923",
   "metadata": {},
   "outputs": [
    {
     "name": "stderr",
     "output_type": "stream",
     "text": [
      "100%|██████████████████████████████████████████████████████████████████████████████████| 36/36 [00:18<00:00,  1.93it/s]\n"
     ]
    }
   ],
   "source": [
    "import numpy as np\n",
    "from tqdm import tqdm\n",
    "\n",
    "n_alpha=36\n",
    "n_beta=36\n",
    "n_insert=0\n",
    "alpha_array=np.linspace(0,90,n_alpha+1)[:-1]\n",
    "beta_array=np.linspace(0,180,n_beta+1)[:-1]\n",
    "\n",
    "flat_x=np.zeros((n_alpha*(n_insert+1),n_beta*(n_insert+1),40*40),dtype=np.float32)\n",
    "flat_y=np.zeros((n_alpha*(n_insert+1),n_beta*(n_insert+1),3),dtype=np.float32)\n",
    "\n",
    "for i in tqdm(range(n_alpha)):\n",
    "    for j in range(n_beta):\n",
    "        cur_file=np.load(\"./training_set_processed/alpha%.2f_beta%.2f.npz\"%(alpha_array[i],beta_array[j]))\n",
    "        flat_x[i*(n_insert+1):(i+1)*(n_insert+1),j*(n_insert+1):(j+1)*(n_insert+1)]=cur_file[\"arr_0\"]\n",
    "        flat_y[i*(n_insert+1):(i+1)*(n_insert+1),j*(n_insert+1):(j+1)*(n_insert+1)]=cur_file[\"arr_1\"]\n",
    "flat_x=flat_x.reshape(-1,40*40)\n",
    "flat_y=flat_y.reshape(-1,3)\n",
    "\n",
    "x_train=torch.from_numpy(flat_x.reshape(-1,1,40,40)).to(device)\n",
    "y_train=torch.from_numpy(flat_y).to(device)"
   ]
  },
  {
   "cell_type": "code",
   "execution_count": 3,
   "id": "ead38033",
   "metadata": {},
   "outputs": [
    {
     "data": {
      "text/plain": [
       "[0, 648, 9, 27, 5, 23, 671, 656]"
      ]
     },
     "execution_count": 3,
     "metadata": {},
     "output_type": "execute_result"
    }
   ],
   "source": [
    "[0,18*36,9,27,5,5+18,5+18+18*36,8+18*36]"
   ]
  },
  {
   "cell_type": "code",
   "execution_count": 3,
   "id": "eff55aaa",
   "metadata": {},
   "outputs": [
    {
     "data": {
      "text/plain": [
       "<matplotlib.image.AxesImage at 0x2010e112d30>"
      ]
     },
     "execution_count": 3,
     "metadata": {},
     "output_type": "execute_result"
    },
    {
     "data": {
      "image/png": "[encoded data removed]",
      "text/plain": [
       "<Figure size 640x480 with 1 Axes>"
      ]
     },
     "metadata": {},
     "output_type": "display_data"
    }
   ],
   "source": [
    "import matplotlib.pyplot as plt\n",
    "\n",
    "i=5+18*36\n",
    "plt.imshow(flat_x[i].reshape(40,40),cmap=\"bwr\",vmin=-0.3,vmax=0.3)"
   ]
  },
  {
   "cell_type": "code",
   "execution_count": 3,
   "id": "71ae9ab3",
   "metadata": {},
   "outputs": [],
   "source": [
    "fo=np.load(\"./val_set/data_processed.npz\")\n",
    "x_val=torch.from_numpy(fo[\"arr_0\"].reshape(-1,1,40,40)).to(device)\n",
    "y_val=torch.from_numpy(fo[\"arr_1\"]).to(device)\n",
    "\n",
    "fo=np.load(\"./test_set/data_processed.npz\")\n",
    "x_test=torch.from_numpy(fo[\"arr_0\"].reshape(-1,1,40,40)).to(device)\n",
    "y_test=torch.from_numpy(fo[\"arr_1\"]).to(device)"
   ]
  },
  {
   "cell_type": "code",
   "execution_count": 4,
   "id": "73e01f0f",
   "metadata": {},
   "outputs": [],
   "source": [
    "import torch.nn as nn\n",
    "\n",
    "class Simple_CNN(nn.Module):\n",
    "    def __init__(self,p):\n",
    "        super().__init__()\n",
    "        self.conv1 = nn.Sequential(         \n",
    "            nn.Conv2d(1,16,5,1,2),                              \n",
    "            nn.ReLU(),            \n",
    "            nn.MaxPool2d(kernel_size=2),    \n",
    "        )\n",
    "        self.conv2 = nn.Sequential(         \n",
    "            nn.Conv2d(16,32,3,1,1),     \n",
    "            nn.ReLU(),\n",
    "            nn.MaxPool2d(kernel_size=2),                \n",
    "        )\n",
    "        self.conv3 = nn.Sequential(         \n",
    "            nn.Conv2d(32,64,3,1,1),     \n",
    "            nn.ReLU(),\n",
    "            nn.MaxPool2d(kernel_size=2),                \n",
    "        )\n",
    "        self.mlp = nn.Sequential(\n",
    "            nn.Dropout(p=p),\n",
    "            nn.Linear(5*5*64,1024),\n",
    "            nn.ReLU(),\n",
    "            nn.Linear(1024,1024),\n",
    "            nn.ReLU(),\n",
    "            nn.Linear(1024,3),\n",
    "        )\n",
    "        \n",
    "    def forward(self, x):\n",
    "        y = self.conv1(x)\n",
    "        y = self.conv2(y)\n",
    "        y = self.conv3(y)\n",
    "        y = y.view(y.size(0), -1)       \n",
    "        y = self.mlp(y)\n",
    "        return y"
   ]
  },
  {
   "cell_type": "code",
   "execution_count": 5,
   "id": "8c9b2bc8",
   "metadata": {},
   "outputs": [],
   "source": [
    "def train(model,X,y,optimizer,loss_fn,batchsize=650):\n",
    "    idx=np.arange(X.shape[0])\n",
    "    np.random.shuffle(idx)\n",
    "    \n",
    "    epoch_loss = 0\n",
    "    model.train()\n",
    "    for i in range(0,X.shape[0],batchsize):\n",
    "        if i+batchsize>=X.shape[0]:\n",
    "            cur_idx=idx[i:]\n",
    "        else:\n",
    "            cur_idx=idx[i:i+batchsize]\n",
    "            \n",
    "        optimizer.zero_grad()\n",
    "        y_pred = model(X[cur_idx])\n",
    "        loss = loss_fn(y_pred, y[cur_idx])\n",
    "        loss.backward()\n",
    "        optimizer.step()\n",
    "        epoch_loss += loss.item()*cur_idx.shape[0]\n",
    "    return epoch_loss/X.shape[0]\n",
    "    \n",
    "def evaluate(model,X,y,loss_fn,batchsize=5000):\n",
    "    epoch_loss = 0\n",
    "    separate_loss=np.zeros(3,dtype=np.float32)\n",
    "    model.eval()\n",
    "    with torch.no_grad():\n",
    "        for i in range(0,X.shape[0],batchsize):\n",
    "            i_start=i\n",
    "            if i+batchsize>=X.shape[0]:\n",
    "                i_end=X.shape[0]-1\n",
    "            else:\n",
    "                i_end=i+batchsize\n",
    "                \n",
    "            y_pred=model(X[i_start:i_end])\n",
    "            loss = loss_fn(y_pred, y[i_start:i_end])\n",
    "            epoch_loss += loss.item()*(i_end-i_start)\n",
    "            separate_loss += torch.sum(torch.square(y_pred-y[i_start:i_end]),dim=0).to(\"cpu\").numpy()\n",
    "            \n",
    "        epoch_loss=epoch_loss/X.shape[0]\n",
    "        separate_loss=separate_loss/X.shape[0]\n",
    "    return epoch_loss,separate_loss"
   ]
  },
  {
   "cell_type": "code",
   "execution_count": 6,
   "id": "c01ade0a",
   "metadata": {},
   "outputs": [],
   "source": [
    "from torch.nn import MSELoss\n",
    "from torch.optim import Adam\n",
    "from tqdm import tqdm \n",
    "import pandas as pd\n",
    "\n",
    "def run_cnn_exp(task_name,p,\n",
    "                    seed_list=[324,716,10086],n_epoch=10000,save_dir=\"./ML_result/\"):\n",
    "    score=[]\n",
    "    print(\"Running %s\"%task_name)\n",
    "    for seed in seed_list:\n",
    "        torch.manual_seed(seed)\n",
    "        model=Simple_CNN(p)\n",
    "        model = model.to(device)\n",
    "        loss_fn=MSELoss()\n",
    "        optimizer=Adam(model.parameters(),lr=0.001)\n",
    "        result=np.zeros((n_epoch,6),dtype=np.float32)\n",
    "        \n",
    "        first_stage=round(n_epoch*0.5)\n",
    "        for i in tqdm(range(first_stage)):\n",
    "            result[i,0]=train(model,x_train,y_train,optimizer,loss_fn)\n",
    "            result[i,1],_=evaluate(model,x_val,y_val,loss_fn)\n",
    "            result[i,2],result[i,3:]=evaluate(model,x_test,y_test,loss_fn)\n",
    "        \n",
    "        torch.save(model,save_dir+task_name+\"_seed%d\"%seed+\".pt\")\n",
    "        #optimizer.param_groups[0]['lr'] = 0.0005\n",
    "        for i in tqdm(range(first_stage,n_epoch)):\n",
    "            result[i,0]=train(model,x_train,y_train,optimizer,loss_fn)\n",
    "            result[i,1],_=evaluate(model,x_val,y_val,loss_fn)\n",
    "            result[i,2],result[i,3:]=evaluate(model,x_test,y_test,loss_fn)\n",
    "            if np.min(result[:i,1])>result[i,1]:\n",
    "                torch.save(model,save_dir+task_name+\"_seed%d\"%seed+\".pt\")\n",
    "        \n",
    "        best_idx=np.argmin(result[:,1])\n",
    "        score.append(result[best_idx,2])\n",
    "        result=pd.DataFrame(result,columns=[\"train_loss\",\"validation_loss\",\"test_loss\",\"S1_loss\",\"S2_loss\",\"S3_loss\"])\n",
    "        save_filename=save_dir+task_name+\"_seed%d\"%seed+\".csv\"\n",
    "        result.to_csv(save_filename,index=False)\n",
    "    return score"
   ]
  },
  {
   "cell_type": "code",
   "execution_count": 10,
   "id": "5ac1eae8",
   "metadata": {},
   "outputs": [
    {
     "name": "stdout",
     "output_type": "stream",
     "text": [
      "Running CNN_p=0.001\n"
     ]
    },
    {
     "name": "stderr",
     "output_type": "stream",
     "text": [
      "100%|██████████████████████████████████████████████████████████████████████████████| 5000/5000 [01:58<00:00, 42.15it/s]\n",
      "100%|██████████████████████████████████████████████████████████████████████████████| 5000/5000 [02:12<00:00, 37.69it/s]\n"
     ]
    },
    {
     "data": {
      "text/plain": [
       "[0.00018486328]"
      ]
     },
     "execution_count": 10,
     "metadata": {},
     "output_type": "execute_result"
    }
   ],
   "source": [
    "run_cnn_exp(\"CNN_p=0.001\",0.001,seed_list=[325])"
   ]
  },
  {
   "cell_type": "code",
   "execution_count": 17,
   "id": "9892b1a4",
   "metadata": {},
   "outputs": [
    {
     "name": "stdout",
     "output_type": "stream",
     "text": [
      "Running CNN_p=0.001\n"
     ]
    },
    {
     "name": "stderr",
     "output_type": "stream",
     "text": [
      "100%|██████████████████████████████████████████████████████████████████████████████| 5000/5000 [01:58<00:00, 42.27it/s]\n",
      "100%|██████████████████████████████████████████████████████████████████████████████| 5000/5000 [02:09<00:00, 38.47it/s]\n",
      "100%|██████████████████████████████████████████████████████████████████████████████| 5000/5000 [02:17<00:00, 36.28it/s]\n",
      "100%|██████████████████████████████████████████████████████████████████████████████| 5000/5000 [02:16<00:00, 36.54it/s]\n",
      "100%|██████████████████████████████████████████████████████████████████████████████| 5000/5000 [02:19<00:00, 35.95it/s]\n",
      "100%|██████████████████████████████████████████████████████████████████████████████| 5000/5000 [02:20<00:00, 35.70it/s]\n"
     ]
    },
    {
     "data": {
      "text/plain": [
       "[0.0002511237, 0.00020242765, 0.00018416303]"
      ]
     },
     "execution_count": 17,
     "metadata": {},
     "output_type": "execute_result"
    }
   ],
   "source": [
    "run_cnn_exp(\"CNN_p=0.001\",0.001)"
   ]
  },
  {
   "cell_type": "code",
   "execution_count": 11,
   "id": "bb56e91a",
   "metadata": {},
   "outputs": [
    {
     "name": "stdout",
     "output_type": "stream",
     "text": [
      "[[0.00016548 0.00019724 0.00019187]\n",
      " [0.00013901 0.00024295 0.00020146]\n",
      " [0.00017477 0.00026221 0.00011552]]\n",
      "mean MSE: [0.00015975 0.00023413 0.00016962]\n",
      "std MSE: [1.85543861e-05 3.33704096e-05 4.70986469e-05]\n",
      "[[0.00968829 0.01064903 0.00922207]\n",
      " [0.00980846 0.01220709 0.01091266]\n",
      " [0.01022427 0.01346157 0.00731371]]\n",
      "mean MAE: [0.00990701 0.01210589 0.00914948]\n",
      "std MAE: [0.00028125 0.001409   0.00180058]\n"
     ]
    }
   ],
   "source": [
    "seed_list=[325,1212,10086]\n",
    "mse_result=np.zeros((len(seed_list),3))\n",
    "mae_result=np.zeros((len(seed_list),3))\n",
    "for i in range(len(seed_list)):\n",
    "    table=pd.read_csv(\"./ML_result/CNN_p=0.001_seed%d.csv\"%seed_list[i])\n",
    "    best_idx=np.argmin(table[\"validation_loss\"].values)\n",
    "    mse_result[i]=table.iloc[best_idx,3:].values\n",
    "    model=torch.load(\"./ML_result/CNN_p=0.001_seed%d.pt\"%seed_list[i])\n",
    "    model=model.to(device)\n",
    "    with torch.no_grad():\n",
    "        y_pred=model(x_test).to(\"cpu\").numpy()\n",
    "        y_real=y_test.to(\"cpu\").numpy()\n",
    "    mae_result[i]=np.mean(np.abs(y_pred-y_real),axis=0)\n",
    "print(mse_result)\n",
    "print(\"mean MSE:\",np.mean(mse_result,axis=0))\n",
    "print(\"std MSE:\",np.std(mse_result,axis=0,ddof=1))\n",
    "print(mae_result)\n",
    "print(\"mean MAE:\",np.mean(mae_result,axis=0))\n",
    "print(\"std MAE:\",np.std(mae_result,axis=0,ddof=1))"
   ]
  },
  {
   "cell_type": "code",
   "execution_count": 3,
   "id": "45802458",
   "metadata": {},
   "outputs": [
    {
     "name": "stdout",
     "output_type": "stream",
     "text": [
      "[0.00025686 0.00029133 0.00020517] 0.0001673903\n"
     ]
    },
    {
     "data": {
      "image/png": "[encoded data removed]",
      "text/plain": [
       "<Figure size 640x480 with 1 Axes>"
      ]
     },
     "metadata": {},
     "output_type": "display_data"
    }
   ],
   "source": [
    "import matplotlib.pyplot as plt\n",
    "import pandas as pd\n",
    "import numpy as np\n",
    "\n",
    "table=pd.read_csv(\"./ML_result/CNN_p=0.001_seed324.csv\")\n",
    "best_idx=np.argmin(table[\"validation_loss\"].values)\n",
    "print(table.iloc[best_idx,3:].values,table[\"test_loss\"].min())\n",
    "\n",
    "plt.plot(np.arange(table.shape[0]),table[\"validation_loss\"],label=\"Validation\")\n",
    "plt.plot(np.arange(table.shape[0])-1,table[\"train_loss\"],label=\"Training\")\n",
    "#plt.axhline(0.0003)\n",
    "\n",
    "\n",
    "\n",
    "plt.yscale(\"log\")\n",
    "plt.ylim(0.00001,0.5)\n",
    "plt.yticks(fontsize=20)\n",
    "plt.xticks(fontsize=20)\n",
    "plt.xlabel(\"Epoch\",fontsize=24)\n",
    "plt.ylabel(\"MSE Loss\",fontsize=24)\n",
    "plt.legend(fontsize=20)\n",
    "\n",
    "bwidth=2\n",
    "plt.tick_params(which=\"major\",width=bwidth,length=5)\n",
    "plt.tick_params(which=\"minor\",width=bwidth,length=3)\n",
    "tk=plt.gca()\n",
    "tk.spines[\"bottom\"].set_linewidth(bwidth)\n",
    "tk.spines[\"top\"].set_linewidth(bwidth)\n",
    "tk.spines[\"left\"].set_linewidth(bwidth)\n",
    "tk.spines[\"right\"].set_linewidth(bwidth)\n",
    "plt.show()"
   ]
  },
  {
   "cell_type": "code",
   "execution_count": 56,
   "id": "5f17a467",
   "metadata": {},
   "outputs": [
    {
     "name": "stdout",
     "output_type": "stream",
     "text": [
      "[0.00894695 0.01452758 0.00752401]\n"
     ]
    },
    {
     "data": {
      "image/png": "[encoded data removed]",
      "text/plain": [
       "<Figure size 800x300 with 1 Axes>"
      ]
     },
     "metadata": {},
     "output_type": "display_data"
    }
   ],
   "source": [
    "plt.figure(figsize=(8, 3))\n",
    "\n",
    "model=torch.load(\"./ML_result/CNN_p=0.001_seed324.pt\")\n",
    "model=model.to(device)\n",
    "with torch.no_grad():\n",
    "    y_pred=model(x_test).to(\"cpu\").numpy()\n",
    "    y_real=y_test.to(\"cpu\").numpy()\n",
    "print(np.mean(np.abs(y_pred-y_real),axis=0))\n",
    "x=np.arange(20)\n",
    "plt.scatter(x,y_real[:20,2],label=\"Ground truth\")\n",
    "plt.scatter(x,y_pred[:20,2],label=\"Prediction\")\n",
    "\n",
    "plt.ylim(-1.2,1.2)\n",
    "plt.xticks([])\n",
    "plt.yticks(fontsize=24)\n",
    "plt.ylabel(\"S3\",fontsize=24)\n",
    "#plt.legend(fontsize=20)\n",
    "\n",
    "bwidth=2\n",
    "plt.tick_params(which=\"major\",width=bwidth,length=5)\n",
    "plt.tick_params(which=\"minor\",width=bwidth,length=3)\n",
    "tk=plt.gca()\n",
    "tk.spines[\"bottom\"].set_linewidth(bwidth)\n",
    "tk.spines[\"top\"].set_linewidth(bwidth)\n",
    "tk.spines[\"left\"].set_linewidth(bwidth)\n",
    "tk.spines[\"right\"].set_linewidth(bwidth)\n",
    "plt.show()"
   ]
  },
  {
   "cell_type": "code",
   "execution_count": null,
   "id": "4919cb01",
   "metadata": {},
   "outputs": [],
   "source": []
  }
 ],
 "metadata": {
  "kernelspec": {
   "display_name": "Python 3 (ipykernel)",
   "language": "python",
   "name": "python3"
  },
  "language_info": {
   "codemirror_mode": {
    "name": "ipython",
    "version": 3
   },
   "file_extension": ".py",
   "mimetype": "text/x-python",
   "name": "python",
   "nbconvert_exporter": "python",
   "pygments_lexer": "ipython3",
   "version": "3.8.10"
  }
 },
 "nbformat": 4,
 "nbformat_minor": 5
}
