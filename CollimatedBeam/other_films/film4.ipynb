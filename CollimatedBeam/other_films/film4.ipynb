{
 "cells": [
  {
   "cell_type": "markdown",
   "id": "41c81fb8",
   "metadata": {},
   "source": [
    "# Deeping learning and post-processing of Film4 "
   ]
  },
  {
   "cell_type": "code",
   "execution_count": 1,
   "id": "31b029da",
   "metadata": {},
   "outputs": [],
   "source": [
    "import os\n",
    "if not os.path.exists(\"./training_set_processed\"):\n",
    "    os.mkdir(\"./training_set_processed\")\n",
    "if not os.path.exists(\"./ML_result\"):\n",
    "    os.mkdir(\"./ML_result\")"
   ]
  },
  {
   "cell_type": "code",
   "execution_count": 2,
   "id": "c3d7412f",
   "metadata": {},
   "outputs": [
    {
     "name": "stderr",
     "output_type": "stream",
     "text": [
      "100%|██████████████████████████████████████████████████████████████████████████████████| 36/36 [01:11<00:00,  1.97s/it]\n"
     ]
    }
   ],
   "source": [
    "import numpy as np\n",
    "import matplotlib.pyplot as plt\n",
    "from scipy.ndimage import zoom\n",
    "from tqdm import tqdm\n",
    "from math import pi\n",
    "\n",
    "def stokes_from_alphabeta(alpha,beta):\n",
    "    alpha=alpha/180*pi\n",
    "    beta=beta/180*pi\n",
    "    result=np.zeros(3,dtype=np.float32)\n",
    "    result[0]=0.5*(np.cos(4*alpha-4*beta)+np.cos(4*alpha))\n",
    "    result[1]=0.5*(np.sin(4*alpha)-np.sin(4*alpha-4*beta))\n",
    "    result[2]=-np.sin(4*alpha-2*beta)\n",
    "    return result\n",
    "\n",
    "\n",
    "\n",
    "n_alpha=36\n",
    "n_beta=36\n",
    "\n",
    "alpha_array=np.linspace(0,90,n_alpha+1)[:-1]\n",
    "beta_array=np.linspace(0,180,n_beta+1)[:-1]\n",
    "ori_x=np.zeros((n_alpha,n_beta,40*40),dtype=np.uint16)\n",
    "ori_y=np.zeros((n_alpha,n_beta,3),dtype=np.float32)\n",
    "\n",
    "for i in tqdm(range(n_alpha)):\n",
    "    cur_npz=np.load(\"./training_set/alpha%.2f.npz\"%alpha_array[i])[\"arr_0\"]\n",
    "    for j in range(n_beta):\n",
    "        ori_x[i,j]=zoom(cur_npz[j],(40/cur_npz[j].shape[0],40/cur_npz[j].shape[1])).reshape(-1)\n",
    "        ori_y[i,j]=stokes_from_alphabeta(alpha_array[i],beta_array[j])\n",
    "\n",
    "ori_x=ori_x.astype(np.float32)\n",
    "train_mean=np.mean(np.mean(ori_x,axis=0),axis=0)\n",
    "ori_x=ori_x/train_mean-1\n",
    "#train_std=np.std(np.std(ori_x,axis=0),axis=0)\n",
    "train_std=1\n",
    "ori_x=ori_x/train_std"
   ]
  },
  {
   "cell_type": "code",
   "execution_count": 3,
   "id": "5841d2ce",
   "metadata": {},
   "outputs": [],
   "source": [
    "def insert_img(x_list,y_list,n_each):\n",
    "    # x_list,y_list: 1D list in [ori,down,right,downright]\n",
    "    x_result=np.zeros((n_each+2,n_each+2,x_list[0].shape[0]),dtype=np.float32)\n",
    "    y_result=np.zeros((n_each+2,n_each+2,y_list[0].shape[0]),dtype=np.float32)\n",
    "    \n",
    "    x_result[0,0]=x_list[0]\n",
    "    x_result[-1,0]=x_list[1]\n",
    "    x_result[0,-1]=x_list[2]\n",
    "    x_result[-1,-1]=x_list[3]\n",
    "    y_result[0,0]=y_list[0]\n",
    "    y_result[-1,0]=y_list[1]\n",
    "    y_result[0,-1]=y_list[2]\n",
    "    y_result[-1,-1]=y_list[3]\n",
    "    \n",
    "    for i in range(1,n_each+1):\n",
    "        x_result[0,i]=x_result[0,0]+(x_result[0,-1]-x_result[0,0])/(n_each+1)*i\n",
    "        x_result[-1,i]=x_result[0,0]+(x_result[0,-1]-x_result[0,0])/(n_each+1)*i\n",
    "        y_result[0,i]=y_result[0,0]+(y_result[0,-1]-y_result[0,0])/(n_each+1)*i\n",
    "        y_result[-1,i]=y_result[0,0]+(y_result[0,-1]-y_result[0,0])/(n_each+1)*i\n",
    "    for i in range(x_result.shape[1]-1):\n",
    "        for j in range(1,n_each+1):\n",
    "            x_result[j,i]=x_result[0,i]+(x_result[-1,i]-x_result[0,i])/(n_each+1)*j\n",
    "            y_result[j,i]=y_result[0,i]+(y_result[-1,i]-y_result[0,i])/(n_each+1)*j\n",
    "    return x_result[:-1,:-1],y_result[:-1,:-1]"
   ]
  },
  {
   "cell_type": "code",
   "execution_count": 4,
   "id": "88c106a6",
   "metadata": {},
   "outputs": [
    {
     "name": "stderr",
     "output_type": "stream",
     "text": [
      "100%|██████████████████████████████████████████████████████████████████████████████████| 36/36 [00:00<00:00, 71.48it/s]\n"
     ]
    }
   ],
   "source": [
    "for i in tqdm(range(n_alpha)):\n",
    "    for j in range(n_beta):\n",
    "        x_list=[ori_x[i,j]]\n",
    "        y_list=[ori_y[i,j]]\n",
    "        if i==n_alpha-1:\n",
    "            alpha_plus=0\n",
    "        else:\n",
    "            alpha_plus=i+1\n",
    "        if j==n_beta-1:\n",
    "            beta_plus=0\n",
    "        else:\n",
    "            beta_plus=j+1\n",
    "        x_list.append(ori_x[alpha_plus,j])\n",
    "        y_list.append(ori_y[alpha_plus,j])\n",
    "        x_list.append(ori_x[i,beta_plus])\n",
    "        y_list.append(ori_y[i,beta_plus])\n",
    "        x_list.append(ori_x[alpha_plus,beta_plus])\n",
    "        y_list.append(ori_y[alpha_plus,beta_plus])\n",
    "        \n",
    "        x_result,y_result=insert_img(x_list,y_list,0)\n",
    "        np.savez(\"./training_set_processed/alpha%.2f_beta%.2f.npz\"%(alpha_array[i],beta_array[j]),x_result,y_result)"
   ]
  },
  {
   "cell_type": "code",
   "execution_count": 5,
   "id": "2f47b720",
   "metadata": {},
   "outputs": [
    {
     "name": "stderr",
     "output_type": "stream",
     "text": [
      "100%|████████████████████████████████████████████████████████████████████████████████| 100/100 [00:03<00:00, 25.91it/s]\n"
     ]
    }
   ],
   "source": [
    "cur_npz=np.load(\"./test_set/data.npz\")[\"arr_0\"]\n",
    "ori_x=np.zeros((cur_npz.shape[0],40*40),dtype=np.uint16)\n",
    "ori_y=np.zeros((cur_npz.shape[0],3),dtype=np.float32)\n",
    "fo=np.load(\"./test_set/alphabeta.npz\")\n",
    "cur_alpha=fo[\"arr_0\"]\n",
    "cur_beta=fo[\"arr_1\"]\n",
    "for i in tqdm(range(cur_npz.shape[0])):\n",
    "    ori_x[i]=zoom(cur_npz[i],(40/cur_npz[i].shape[0],40/cur_npz[i].shape[1])).reshape(-1)\n",
    "    ori_y[i]=stokes_from_alphabeta(cur_alpha[i],cur_beta[i])\n",
    "\n",
    "ori_x=ori_x.astype(np.float32)\n",
    "ori_x=ori_x/train_mean-1\n",
    "ori_x=ori_x/train_std\n",
    "\n",
    "np.savez(\"./test_set/data_processed.npz\",ori_x,ori_y)"
   ]
  },
  {
   "cell_type": "code",
   "execution_count": 6,
   "id": "c9d2ff03",
   "metadata": {},
   "outputs": [
    {
     "name": "stderr",
     "output_type": "stream",
     "text": [
      "100%|████████████████████████████████████████████████████████████████████████████████| 100/100 [00:03<00:00, 26.35it/s]\n"
     ]
    }
   ],
   "source": [
    "cur_npz=np.load(\"./val_set/data.npz\")[\"arr_0\"]\n",
    "ori_x=np.zeros((cur_npz.shape[0],40*40),dtype=np.uint16)\n",
    "ori_y=np.zeros((cur_npz.shape[0],3),dtype=np.float32)\n",
    "fo=np.load(\"./val_set/alphabeta.npz\")\n",
    "cur_alpha=fo[\"arr_0\"]\n",
    "cur_beta=fo[\"arr_1\"]\n",
    "for i in tqdm(range(cur_npz.shape[0])):\n",
    "    ori_x[i]=zoom(cur_npz[i],(40/cur_npz[i].shape[0],40/cur_npz[i].shape[1])).reshape(-1)\n",
    "    ori_y[i]=stokes_from_alphabeta(cur_alpha[i],cur_beta[i])\n",
    "\n",
    "ori_x=ori_x.astype(np.float32)\n",
    "ori_x=ori_x/train_mean-1\n",
    "ori_x=ori_x/train_std\n",
    "\n",
    "np.savez(\"./val_set/data_processed.npz\",ori_x,ori_y)"
   ]
  },
  {
   "cell_type": "markdown",
   "id": "c74083c3",
   "metadata": {},
   "source": [
    "# CNN"
   ]
  },
  {
   "cell_type": "code",
   "execution_count": 1,
   "id": "4edc60fc",
   "metadata": {},
   "outputs": [
    {
     "name": "stdout",
     "output_type": "stream",
     "text": [
      "Using torch 2.0.1+cu118\n",
      "Using device: cuda\n"
     ]
    }
   ],
   "source": [
    "import torch\n",
    "print(\"Using torch\", torch.__version__)\n",
    "device = torch.device('cuda' if torch.cuda.is_available() else 'cpu')\n",
    "print('Using device:', device)"
   ]
  },
  {
   "cell_type": "code",
   "execution_count": 2,
   "id": "9ec94923",
   "metadata": {},
   "outputs": [
    {
     "name": "stderr",
     "output_type": "stream",
     "text": [
      "100%|██████████████████████████████████████████████████████████████████████████████████| 36/36 [00:14<00:00,  2.51it/s]\n"
     ]
    }
   ],
   "source": [
    "import numpy as np\n",
    "from tqdm import tqdm\n",
    "\n",
    "n_alpha=36\n",
    "n_beta=36\n",
    "n_insert=0\n",
    "alpha_array=np.linspace(0,90,n_alpha+1)[:-1]\n",
    "beta_array=np.linspace(0,180,n_beta+1)[:-1]\n",
    "\n",
    "flat_x=np.zeros((n_alpha*(n_insert+1),n_beta*(n_insert+1),40*40),dtype=np.float32)\n",
    "flat_y=np.zeros((n_alpha*(n_insert+1),n_beta*(n_insert+1),3),dtype=np.float32)\n",
    "\n",
    "for i in tqdm(range(n_alpha)):\n",
    "    for j in range(n_beta):\n",
    "        cur_file=np.load(\"./training_set_processed/alpha%.2f_beta%.2f.npz\"%(alpha_array[i],beta_array[j]))\n",
    "        flat_x[i*(n_insert+1):(i+1)*(n_insert+1),j*(n_insert+1):(j+1)*(n_insert+1)]=cur_file[\"arr_0\"]\n",
    "        flat_y[i*(n_insert+1):(i+1)*(n_insert+1),j*(n_insert+1):(j+1)*(n_insert+1)]=cur_file[\"arr_1\"]\n",
    "flat_x=flat_x.reshape(-1,40*40)\n",
    "flat_y=flat_y.reshape(-1,3)\n",
    "\n",
    "x_train=torch.from_numpy(flat_x.reshape(-1,1,40,40)).to(device)\n",
    "y_train=torch.from_numpy(flat_y).to(device)"
   ]
  },
  {
   "cell_type": "code",
   "execution_count": 3,
   "id": "ead38033",
   "metadata": {},
   "outputs": [],
   "source": [
    "from numpy import pi\n",
    "def stokes_from_alphabeta(alpha,beta):\n",
    "    alpha=alpha/180*pi\n",
    "    beta=beta/180*pi\n",
    "    result=np.zeros(3,dtype=np.float32)\n",
    "    result[0]=0.5*(np.cos(4*alpha-4*beta)+np.cos(4*alpha))\n",
    "    result[1]=0.5*(np.sin(4*alpha)-np.sin(4*alpha-4*beta))\n",
    "    result[2]=-np.sin(4*alpha-2*beta)\n",
    "    return result\n",
    "\n",
    "idx_list=[0,18*36,9,27,5,5+18,5+18+18*36,5+18*36]"
   ]
  },
  {
   "cell_type": "code",
   "execution_count": 4,
   "id": "3ef254d6",
   "metadata": {},
   "outputs": [
    {
     "data": {
      "text/plain": [
       "array([-0.4131759 , -0.49240386, -0.76604444], dtype=float32)"
      ]
     },
     "execution_count": 4,
     "metadata": {},
     "output_type": "execute_result"
    }
   ],
   "source": [
    "stokes_from_alphabeta(alpha_array[18],beta_array[5])"
   ]
  },
  {
   "cell_type": "code",
   "execution_count": 5,
   "id": "eff55aaa",
   "metadata": {},
   "outputs": [
    {
     "data": {
      "image/png": "[encoded data removed]",
      "text/plain": [
       "<Figure size 640x480 with 2 Axes>"
      ]
     },
     "metadata": {},
     "output_type": "display_data"
    }
   ],
   "source": [
    "import matplotlib.pyplot as plt\n",
    "plt.rcParams['font.sans-serif'] = ['Arial']\n",
    "i=idx_list[-2]\n",
    "plt.imshow(flat_x[i].reshape(40,40),cmap=\"bwr\",vmin=-0.3,vmax=0.3)\n",
    "plt.xticks([])\n",
    "plt.yticks([])\n",
    "\n",
    "cbar=plt.colorbar()\n",
    "cbar.set_ticks([-0.3,-0.1,0.1,0.3])\n",
    "cbar.set_label(\"Nomalized intensity\",fontsize=24)\n",
    "cbar.outline.set_linewidth(2)\n",
    "cbar.ax.tick_params(width=2,labelsize=20)\n",
    "\n",
    "\n",
    "bwidth=2\n",
    "plt.tick_params(which=\"major\",width=bwidth,length=5)\n",
    "plt.tick_params(which=\"minor\",width=bwidth,length=3)\n",
    "tk=plt.gca()\n",
    "tk.spines[\"bottom\"].set_linewidth(bwidth)\n",
    "tk.spines[\"top\"].set_linewidth(bwidth)\n",
    "tk.spines[\"left\"].set_linewidth(bwidth)\n",
    "tk.spines[\"right\"].set_linewidth(bwidth)\n",
    "\n",
    "plt.savefig(\"colorbar.svg\",transparent=True)\n",
    "plt.show()"
   ]
  },
  {
   "cell_type": "markdown",
   "id": "4df218e9",
   "metadata": {},
   "source": [
    "### revise i to get other images"
   ]
  },
  {
   "cell_type": "code",
   "execution_count": 6,
   "id": "b040520d",
   "metadata": {},
   "outputs": [
    {
     "data": {
      "image/png": "[encoded data removed]",
      "text/plain": [
       "<Figure size 640x480 with 1 Axes>"
      ]
     },
     "metadata": {},
     "output_type": "display_data"
    }
   ],
   "source": [
    "import matplotlib.pyplot as plt\n",
    "\n",
    "i=7\n",
    "idx=idx_list[i]\n",
    "plt.imshow(flat_x[idx].reshape(40,40),cmap=\"bwr\",vmin=-0.3,vmax=0.3)\n",
    "plt.xticks([])\n",
    "plt.yticks([])\n",
    "\n",
    "bwidth=2\n",
    "plt.tick_params(which=\"major\",width=bwidth,length=5)\n",
    "plt.tick_params(which=\"minor\",width=bwidth,length=3)\n",
    "tk=plt.gca()\n",
    "tk.spines[\"bottom\"].set_linewidth(bwidth)\n",
    "tk.spines[\"top\"].set_linewidth(bwidth)\n",
    "tk.spines[\"left\"].set_linewidth(bwidth)\n",
    "tk.spines[\"right\"].set_linewidth(bwidth)\n",
    "\n",
    "plt.savefig(\"%d.svg\"%i,transparent=True)\n",
    "plt.show()"
   ]
  },
  {
   "cell_type": "code",
   "execution_count": 7,
   "id": "71ae9ab3",
   "metadata": {},
   "outputs": [],
   "source": [
    "fo=np.load(\"./val_set/data_processed.npz\")\n",
    "x_val=torch.from_numpy(fo[\"arr_0\"].reshape(-1,1,40,40)).to(device)\n",
    "y_val=torch.from_numpy(fo[\"arr_1\"]).to(device)\n",
    "\n",
    "fo=np.load(\"./test_set/data_processed.npz\")\n",
    "x_test=torch.from_numpy(fo[\"arr_0\"].reshape(-1,1,40,40)).to(device)\n",
    "y_test=torch.from_numpy(fo[\"arr_1\"]).to(device)"
   ]
  },
  {
   "cell_type": "code",
   "execution_count": 8,
   "id": "73e01f0f",
   "metadata": {},
   "outputs": [],
   "source": [
    "import torch.nn as nn\n",
    "\n",
    "class Simple_CNN(nn.Module):\n",
    "    def __init__(self,p):\n",
    "        super().__init__()\n",
    "        self.conv1 = nn.Sequential(         \n",
    "            nn.Conv2d(1,16,5,1,2),                              \n",
    "            nn.ReLU(),            \n",
    "            nn.MaxPool2d(kernel_size=2),    \n",
    "        )\n",
    "        self.conv2 = nn.Sequential(         \n",
    "            nn.Conv2d(16,32,3,1,1),     \n",
    "            nn.ReLU(),\n",
    "            nn.MaxPool2d(kernel_size=2),                \n",
    "        )\n",
    "        self.conv3 = nn.Sequential(         \n",
    "            nn.Conv2d(32,64,3,1,1),     \n",
    "            nn.ReLU(),\n",
    "            nn.MaxPool2d(kernel_size=2),                \n",
    "        )\n",
    "        self.mlp = nn.Sequential(\n",
    "            nn.Dropout(p=p),\n",
    "            nn.Linear(5*5*64,1024),\n",
    "            nn.ReLU(),\n",
    "            nn.Linear(1024,1024),\n",
    "            nn.ReLU(),\n",
    "            nn.Linear(1024,3),\n",
    "        )\n",
    "        \n",
    "    def forward(self, x):\n",
    "        y = self.conv1(x)\n",
    "        y = self.conv2(y)\n",
    "        y = self.conv3(y)\n",
    "        y = y.view(y.size(0), -1)       \n",
    "        y = self.mlp(y)\n",
    "        return y"
   ]
  },
  {
   "cell_type": "code",
   "execution_count": 9,
   "id": "8c9b2bc8",
   "metadata": {},
   "outputs": [],
   "source": [
    "def train(model,X,y,optimizer,loss_fn,batchsize=650):\n",
    "    idx=np.arange(X.shape[0])\n",
    "    np.random.shuffle(idx)\n",
    "    \n",
    "    epoch_loss = 0\n",
    "    model.train()\n",
    "    for i in range(0,X.shape[0],batchsize):\n",
    "        if i+batchsize>=X.shape[0]:\n",
    "            cur_idx=idx[i:]\n",
    "        else:\n",
    "            cur_idx=idx[i:i+batchsize]\n",
    "            \n",
    "        optimizer.zero_grad()\n",
    "        y_pred = model(X[cur_idx])\n",
    "        loss = loss_fn(y_pred, y[cur_idx])\n",
    "        loss.backward()\n",
    "        optimizer.step()\n",
    "        epoch_loss += loss.item()*cur_idx.shape[0]\n",
    "        return epoch_loss/X.shape[0]\n",
    "    \n",
    "def evaluate(model,X,y,loss_fn,batchsize=5000):\n",
    "    epoch_loss = 0\n",
    "    separate_loss=np.zeros(3,dtype=np.float32)\n",
    "    model.eval()\n",
    "    with torch.no_grad():\n",
    "        for i in range(0,X.shape[0],batchsize):\n",
    "            i_start=i\n",
    "            if i+batchsize>=X.shape[0]:\n",
    "                i_end=X.shape[0]-1\n",
    "            else:\n",
    "                i_end=i+batchsize\n",
    "                \n",
    "            y_pred=model(X[i_start:i_end])\n",
    "            loss = loss_fn(y_pred, y[i_start:i_end])\n",
    "            epoch_loss += loss.item()*(i_end-i_start)\n",
    "            separate_loss += torch.sum(torch.square(y_pred-y[i_start:i_end]),dim=0).to(\"cpu\").numpy()\n",
    "            \n",
    "        epoch_loss=epoch_loss/X.shape[0]\n",
    "        separate_loss=separate_loss/X.shape[0]\n",
    "    return epoch_loss,separate_loss"
   ]
  },
  {
   "cell_type": "code",
   "execution_count": 10,
   "id": "c01ade0a",
   "metadata": {},
   "outputs": [],
   "source": [
    "from torch.nn import MSELoss\n",
    "from torch.optim import Adam\n",
    "from tqdm import tqdm \n",
    "import pandas as pd\n",
    "\n",
    "def run_cnn_exp(task_name,p,\n",
    "                    seed_list=[324,715,10086],n_epoch=10000,save_dir=\"./ML_result/\"):\n",
    "    score=[]\n",
    "    print(\"Running %s\"%task_name)\n",
    "    for seed in seed_list:\n",
    "        torch.manual_seed(seed)\n",
    "        model=Simple_CNN(p)\n",
    "        model = model.to(device)\n",
    "        loss_fn=MSELoss()\n",
    "        optimizer=Adam(model.parameters(),lr=0.001)\n",
    "        result=np.zeros((n_epoch,6),dtype=np.float32)\n",
    "        \n",
    "        first_stage=round(n_epoch*0.5)\n",
    "        for i in tqdm(range(first_stage)):\n",
    "            result[i,0]=train(model,x_train,y_train,optimizer,loss_fn)\n",
    "            result[i,1],_=evaluate(model,x_val,y_val,loss_fn)\n",
    "            result[i,2],result[i,3:]=evaluate(model,x_test,y_test,loss_fn)\n",
    "        \n",
    "        torch.save(model,save_dir+task_name+\"_seed%d\"%seed+\".pt\")\n",
    "        #optimizer.param_groups[0]['lr'] = 0.0005\n",
    "        for i in tqdm(range(first_stage,n_epoch)):\n",
    "            result[i,0]=train(model,x_train,y_train,optimizer,loss_fn)\n",
    "            result[i,1],_=evaluate(model,x_val,y_val,loss_fn)\n",
    "            result[i,2],result[i,3:]=evaluate(model,x_test,y_test,loss_fn)\n",
    "            if np.min(result[:i,1])>result[i,1]:\n",
    "                torch.save(model,save_dir+task_name+\"_seed%d\"%seed+\".pt\")\n",
    "        \n",
    "        best_idx=np.argmin(result[:,1])\n",
    "        score.append(result[best_idx,2])\n",
    "        result=pd.DataFrame(result,columns=[\"train_loss\",\"validation_loss\",\"test_loss\",\"S1_loss\",\"S2_loss\",\"S3_loss\"])\n",
    "        save_filename=save_dir+task_name+\"_seed%d\"%seed+\".csv\"\n",
    "        result.to_csv(save_filename,index=False)\n",
    "    return score"
   ]
  },
  {
   "cell_type": "code",
   "execution_count": 11,
   "id": "9892b1a4",
   "metadata": {},
   "outputs": [
    {
     "name": "stdout",
     "output_type": "stream",
     "text": [
      "Running CNN_p=0.001\n"
     ]
    },
    {
     "name": "stderr",
     "output_type": "stream",
     "text": [
      "100%|██████████████████████████████████████████████████████████████████████████████| 5000/5000 [01:58<00:00, 42.30it/s]\n",
      "100%|██████████████████████████████████████████████████████████████████████████████| 5000/5000 [02:06<00:00, 39.52it/s]\n",
      "100%|██████████████████████████████████████████████████████████████████████████████| 5000/5000 [02:13<00:00, 37.55it/s]\n",
      "100%|██████████████████████████████████████████████████████████████████████████████| 5000/5000 [02:17<00:00, 36.42it/s]\n",
      "100%|██████████████████████████████████████████████████████████████████████████████| 5000/5000 [02:17<00:00, 36.28it/s]\n",
      "100%|██████████████████████████████████████████████████████████████████████████████| 5000/5000 [02:20<00:00, 35.56it/s]\n"
     ]
    },
    {
     "data": {
      "text/plain": [
       "[0.00013377106, 0.00012144504, 0.00014712306]"
      ]
     },
     "execution_count": 11,
     "metadata": {},
     "output_type": "execute_result"
    }
   ],
   "source": [
    "run_cnn_exp(\"CNN_p=0.001\",0.001)"
   ]
  },
  {
   "cell_type": "code",
   "execution_count": 53,
   "id": "bcc42149",
   "metadata": {},
   "outputs": [
    {
     "name": "stdout",
     "output_type": "stream",
     "text": [
      "Running CNN_plot\n"
     ]
    },
    {
     "name": "stderr",
     "output_type": "stream",
     "text": [
      "100%|██████████████████████████████████████████████████████████████████████████████| 5000/5000 [02:07<00:00, 39.30it/s]\n",
      "100%|██████████████████████████████████████████████████████████████████████████████| 5000/5000 [02:15<00:00, 37.00it/s]\n"
     ]
    },
    {
     "data": {
      "text/plain": [
       "[0.00020743962]"
      ]
     },
     "execution_count": 53,
     "metadata": {},
     "output_type": "execute_result"
    }
   ],
   "source": [
    "run_cnn_exp(\"CNN_plot\",0.001)"
   ]
  },
  {
   "cell_type": "code",
   "execution_count": 12,
   "id": "ed546c16",
   "metadata": {},
   "outputs": [
    {
     "name": "stdout",
     "output_type": "stream",
     "text": [
      "[[1.5911009e-04 1.8243646e-04 5.9766608e-05]\n",
      " [1.4053784e-04 1.9907900e-04 2.4718290e-05]\n",
      " [1.8721685e-04 1.9886892e-04 5.5283440e-05]]\n",
      "mean MSE: [1.6228826e-04 1.9346146e-04 4.6589446e-05]\n",
      "std MSE: [2.35012354e-05 9.54850785e-06 1.90731565e-05]\n",
      "[[0.00972886 0.01080184 0.00598072]\n",
      " [0.00911735 0.01127012 0.00396959]\n",
      " [0.01101917 0.01064686 0.00577796]]\n",
      "mean MAE: [0.00995513 0.01090628 0.00524276]\n",
      "std MAE: [0.00097089 0.00032449 0.00110725]\n"
     ]
    }
   ],
   "source": [
    "seed_list=[324,715,10086]\n",
    "mse_result=np.zeros((len(seed_list),3))\n",
    "mae_result=np.zeros((len(seed_list),3))\n",
    "for i in range(len(seed_list)):\n",
    "    table=pd.read_csv(\"./ML_result/CNN_p=0.001_seed%d.csv\"%seed_list[i])\n",
    "    best_idx=np.argmin(table[\"validation_loss\"].values)\n",
    "    mse_result[i]=table.iloc[best_idx,3:].values\n",
    "    model=torch.load(\"./ML_result/CNN_p=0.001_seed%d.pt\"%seed_list[i])\n",
    "    model=model.to(device)\n",
    "    with torch.no_grad():\n",
    "        y_pred=model(x_test).to(\"cpu\").numpy()\n",
    "        y_real=y_test.to(\"cpu\").numpy()\n",
    "    mae_result[i]=np.mean(np.abs(y_pred-y_real),axis=0)\n",
    "print(mse_result)\n",
    "print(\"mean MSE:\",np.mean(mse_result,axis=0))\n",
    "print(\"std MSE:\",np.std(mse_result,axis=0,ddof=1))\n",
    "print(mae_result)\n",
    "print(\"mean MAE:\",np.mean(mae_result,axis=0))\n",
    "print(\"std MAE:\",np.std(mae_result,axis=0,ddof=1))"
   ]
  },
  {
   "cell_type": "code",
   "execution_count": 5,
   "id": "45802458",
   "metadata": {},
   "outputs": [
    {
     "name": "stdout",
     "output_type": "stream",
     "text": [
      "[1.4053784e-04 1.9907900e-04 2.4718290e-05] 0.000119794306\n"
     ]
    },
    {
     "data": {
      "image/png": "[encoded data removed]",
      "text/plain": [
       "<Figure size 640x480 with 1 Axes>"
      ]
     },
     "metadata": {},
     "output_type": "display_data"
    }
   ],
   "source": [
    "import matplotlib.pyplot as plt\n",
    "import pandas as pd\n",
    "import numpy as np\n",
    "plt.rcParams['font.sans-serif'] = ['Arial']\n",
    "\n",
    "table=pd.read_csv(\"./ML_result/CNN_p=0.001_seed715.csv\")\n",
    "best_idx=np.argmin(table[\"validation_loss\"].values)\n",
    "print(table.iloc[best_idx,3:].values,table[\"test_loss\"].min())\n",
    "\n",
    "plt.plot(np.arange(table.shape[0])-1,table[\"train_loss\"],label=\"Training\")\n",
    "plt.plot(np.arange(table.shape[0]),table[\"validation_loss\"],label=\"Validation\")\n",
    "\n",
    "\n",
    "plt.yscale(\"log\")\n",
    "plt.ylim(0.000005,0.5)\n",
    "plt.yticks(fontsize=20)\n",
    "plt.xticks(fontsize=20)\n",
    "plt.xlabel(\"Epoch\",fontsize=24)\n",
    "plt.ylabel(\"MSE loss\",fontsize=24)\n",
    "plt.legend(fontsize=20)\n",
    "\n",
    "bwidth=2\n",
    "plt.tick_params(which=\"major\",width=bwidth,length=5)\n",
    "plt.tick_params(which=\"minor\",width=bwidth,length=3)\n",
    "tk=plt.gca()\n",
    "tk.spines[\"bottom\"].set_linewidth(bwidth)\n",
    "tk.spines[\"top\"].set_linewidth(bwidth)\n",
    "tk.spines[\"left\"].set_linewidth(bwidth)\n",
    "tk.spines[\"right\"].set_linewidth(bwidth)\n",
    "plt.savefig(\"./learning_curve.svg\",transparent=True,bbox_inches=\"tight\")\n",
    "plt.show()"
   ]
  },
  {
   "cell_type": "code",
   "execution_count": 6,
   "id": "5f17a467",
   "metadata": {},
   "outputs": [
    {
     "ename": "AttributeError",
     "evalue": "Can't get attribute 'Simple_CNN' on <module '__main__'>",
     "output_type": "error",
     "traceback": [
      "\u001b[1;31m---------------------------------------------------------------------------\u001b[0m",
      "\u001b[1;31mAttributeError\u001b[0m                            Traceback (most recent call last)",
      "Cell \u001b[1;32mIn[6], line 5\u001b[0m\n\u001b[0;32m      2\u001b[0m plt\u001b[38;5;241m.\u001b[39mrcParams[\u001b[38;5;124m'\u001b[39m\u001b[38;5;124mfont.sans-serif\u001b[39m\u001b[38;5;124m'\u001b[39m] \u001b[38;5;241m=\u001b[39m [\u001b[38;5;124m'\u001b[39m\u001b[38;5;124mArial\u001b[39m\u001b[38;5;124m'\u001b[39m]\n\u001b[0;32m      3\u001b[0m plt\u001b[38;5;241m.\u001b[39mfigure(figsize\u001b[38;5;241m=\u001b[39m(\u001b[38;5;241m8\u001b[39m, \u001b[38;5;241m2\u001b[39m))\n\u001b[1;32m----> 5\u001b[0m model\u001b[38;5;241m=\u001b[39m\u001b[43mtorch\u001b[49m\u001b[38;5;241;43m.\u001b[39;49m\u001b[43mload\u001b[49m\u001b[43m(\u001b[49m\u001b[38;5;124;43m\"\u001b[39;49m\u001b[38;5;124;43m./ML_result/CNN_p=0.001_seed324.pt\u001b[39;49m\u001b[38;5;124;43m\"\u001b[39;49m\u001b[43m)\u001b[49m\n\u001b[0;32m      6\u001b[0m model\u001b[38;5;241m=\u001b[39mmodel\u001b[38;5;241m.\u001b[39mto(device)\n\u001b[0;32m      7\u001b[0m \u001b[38;5;28;01mwith\u001b[39;00m torch\u001b[38;5;241m.\u001b[39mno_grad():\n",
      "File \u001b[1;32md:\\programfiles\\python\\lib\\site-packages\\torch\\serialization.py:809\u001b[0m, in \u001b[0;36mload\u001b[1;34m(f, map_location, pickle_module, weights_only, **pickle_load_args)\u001b[0m\n\u001b[0;32m    807\u001b[0m             \u001b[38;5;28;01mexcept\u001b[39;00m \u001b[38;5;167;01mRuntimeError\u001b[39;00m \u001b[38;5;28;01mas\u001b[39;00m e:\n\u001b[0;32m    808\u001b[0m                 \u001b[38;5;28;01mraise\u001b[39;00m pickle\u001b[38;5;241m.\u001b[39mUnpicklingError(UNSAFE_MESSAGE \u001b[38;5;241m+\u001b[39m \u001b[38;5;28mstr\u001b[39m(e)) \u001b[38;5;28;01mfrom\u001b[39;00m \u001b[38;5;28;01mNone\u001b[39;00m\n\u001b[1;32m--> 809\u001b[0m         \u001b[38;5;28;01mreturn\u001b[39;00m \u001b[43m_load\u001b[49m\u001b[43m(\u001b[49m\u001b[43mopened_zipfile\u001b[49m\u001b[43m,\u001b[49m\u001b[43m \u001b[49m\u001b[43mmap_location\u001b[49m\u001b[43m,\u001b[49m\u001b[43m \u001b[49m\u001b[43mpickle_module\u001b[49m\u001b[43m,\u001b[49m\u001b[43m \u001b[49m\u001b[38;5;241;43m*\u001b[39;49m\u001b[38;5;241;43m*\u001b[39;49m\u001b[43mpickle_load_args\u001b[49m\u001b[43m)\u001b[49m\n\u001b[0;32m    810\u001b[0m \u001b[38;5;28;01mif\u001b[39;00m weights_only:\n\u001b[0;32m    811\u001b[0m     \u001b[38;5;28;01mtry\u001b[39;00m:\n",
      "File \u001b[1;32md:\\programfiles\\python\\lib\\site-packages\\torch\\serialization.py:1172\u001b[0m, in \u001b[0;36m_load\u001b[1;34m(zip_file, map_location, pickle_module, pickle_file, **pickle_load_args)\u001b[0m\n\u001b[0;32m   1170\u001b[0m unpickler \u001b[38;5;241m=\u001b[39m UnpicklerWrapper(data_file, \u001b[38;5;241m*\u001b[39m\u001b[38;5;241m*\u001b[39mpickle_load_args)\n\u001b[0;32m   1171\u001b[0m unpickler\u001b[38;5;241m.\u001b[39mpersistent_load \u001b[38;5;241m=\u001b[39m persistent_load\n\u001b[1;32m-> 1172\u001b[0m result \u001b[38;5;241m=\u001b[39m \u001b[43munpickler\u001b[49m\u001b[38;5;241;43m.\u001b[39;49m\u001b[43mload\u001b[49m\u001b[43m(\u001b[49m\u001b[43m)\u001b[49m\n\u001b[0;32m   1174\u001b[0m torch\u001b[38;5;241m.\u001b[39m_utils\u001b[38;5;241m.\u001b[39m_validate_loaded_sparse_tensors()\n\u001b[0;32m   1176\u001b[0m \u001b[38;5;28;01mreturn\u001b[39;00m result\n",
      "File \u001b[1;32md:\\programfiles\\python\\lib\\site-packages\\torch\\serialization.py:1165\u001b[0m, in \u001b[0;36m_load.<locals>.UnpicklerWrapper.find_class\u001b[1;34m(self, mod_name, name)\u001b[0m\n\u001b[0;32m   1163\u001b[0m         \u001b[38;5;28;01mpass\u001b[39;00m\n\u001b[0;32m   1164\u001b[0m mod_name \u001b[38;5;241m=\u001b[39m load_module_mapping\u001b[38;5;241m.\u001b[39mget(mod_name, mod_name)\n\u001b[1;32m-> 1165\u001b[0m \u001b[38;5;28;01mreturn\u001b[39;00m \u001b[38;5;28;43msuper\u001b[39;49m\u001b[43m(\u001b[49m\u001b[43m)\u001b[49m\u001b[38;5;241;43m.\u001b[39;49m\u001b[43mfind_class\u001b[49m\u001b[43m(\u001b[49m\u001b[43mmod_name\u001b[49m\u001b[43m,\u001b[49m\u001b[43m \u001b[49m\u001b[43mname\u001b[49m\u001b[43m)\u001b[49m\n",
      "\u001b[1;31mAttributeError\u001b[0m: Can't get attribute 'Simple_CNN' on <module '__main__'>"
     ]
    },
    {
     "data": {
      "text/plain": [
       "<Figure size 800x200 with 0 Axes>"
      ]
     },
     "metadata": {},
     "output_type": "display_data"
    }
   ],
   "source": [
    "# didn't use\n",
    "plt.rcParams['font.sans-serif'] = ['Arial']\n",
    "plt.figure(figsize=(8, 2))\n",
    "\n",
    "model=torch.load(\"./ML_result/CNN_p=0.001_seed324.pt\")\n",
    "model=model.to(device)\n",
    "with torch.no_grad():\n",
    "    y_pred=model(x_test).to(\"cpu\").numpy()\n",
    "    y_real=y_test.to(\"cpu\").numpy()\n",
    "print(np.mean(np.abs(y_pred-y_real),axis=0))\n",
    "x=np.arange(20)\n",
    "#plt.scatter(x,y_real[:20,0],c=\"None\",s=60,linewidths=2,edgecolor=\"tab:blue\",label=\"Ground truth\")\n",
    "plt.scatter(x,y_real[:20,0],marker=\"x\",s=150,linewidths=3,label=\"Ground truth\")\n",
    "plt.scatter(x,y_pred[:20,0],c=\"None\",s=60,linewidths=3,edgecolor=\"tab:orange\",label=\"Prediction\")\n",
    "\n",
    "plt.ylim(-1.2,1.2)\n",
    "plt.xticks([])\n",
    "plt.yticks([-1,0,1])\n",
    "plt.yticks(fontsize=24)\n",
    "plt.ylabel(r\"$S_1/S_0$\",fontsize=24)\n",
    "#plt.legend(fontsize=18)\n",
    "\n",
    "bwidth=2\n",
    "plt.tick_params(which=\"major\",width=bwidth,length=5)\n",
    "plt.tick_params(which=\"minor\",width=bwidth,length=3)\n",
    "tk=plt.gca()\n",
    "tk.spines[\"bottom\"].set_linewidth(bwidth)\n",
    "tk.spines[\"top\"].set_linewidth(bwidth)\n",
    "tk.spines[\"left\"].set_linewidth(bwidth)\n",
    "tk.spines[\"right\"].set_linewidth(bwidth)\n",
    "plt.savefig(\"./S1.svg\",transparent=True,bbox_inches=\"tight\")\n",
    "plt.show()"
   ]
  },
  {
   "cell_type": "code",
   "execution_count": null,
   "id": "50d8b559",
   "metadata": {},
   "outputs": [],
   "source": []
  }
 ],
 "metadata": {
  "kernelspec": {
   "display_name": "Python 3 (ipykernel)",
   "language": "python",
   "name": "python3"
  },
  "language_info": {
   "codemirror_mode": {
    "name": "ipython",
    "version": 3
   },
   "file_extension": ".py",
   "mimetype": "text/x-python",
   "name": "python",
   "nbconvert_exporter": "python",
   "pygments_lexer": "ipython3",
   "version": "3.8.10"
  }
 },
 "nbformat": 4,
 "nbformat_minor": 5
}
